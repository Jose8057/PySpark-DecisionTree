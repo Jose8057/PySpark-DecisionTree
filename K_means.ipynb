{
 "cells": [
  {
   "cell_type": "markdown",
   "id": "73a78fbc",
   "metadata": {},
   "source": [
    "# Install pyspark library"
   ]
  },
  {
   "cell_type": "code",
   "execution_count": null,
   "id": "8fc2daab",
   "metadata": {},
   "outputs": [],
   "source": [
    "!pip install pyspark"
   ]
  },
  {
   "cell_type": "code",
   "execution_count": 1,
   "id": "68459b97",
   "metadata": {},
   "outputs": [],
   "source": [
    "#import pyspark library\n",
    "import pyspark"
   ]
  },
  {
   "cell_type": "code",
   "execution_count": 2,
   "id": "37a76bc0",
   "metadata": {},
   "outputs": [],
   "source": [
    "#import spark session library\n",
    "from pyspark.sql import SparkSession"
   ]
  },
  {
   "cell_type": "code",
   "execution_count": 3,
   "id": "d1d70749",
   "metadata": {},
   "outputs": [],
   "source": [
    "# Create SparkSession object\n",
    "spark = SparkSession\\\n",
    "        .builder\\\n",
    "        .appName(\"K_Means\")\\\n",
    "        .getOrCreate()"
   ]
  },
  {
   "cell_type": "markdown",
   "id": "d0b99385",
   "metadata": {},
   "source": [
    "# Create DataFrame"
   ]
  },
  {
   "cell_type": "code",
   "execution_count": 4,
   "id": "35620ddc",
   "metadata": {},
   "outputs": [],
   "source": [
    "#To create dataframe form External datasets\n",
    "df = spark.read.option(\"header\", \"true\").csv(\"airlines1.csv\")"
   ]
  },
  {
   "cell_type": "markdown",
   "id": "0ef1e384",
   "metadata": {},
   "source": [
    "# Data Preparation"
   ]
  },
  {
   "cell_type": "code",
   "execution_count": 5,
   "id": "8ccbe035",
   "metadata": {},
   "outputs": [],
   "source": [
    "# create new dataframe as per required columns for prediction\n",
    "AirlineDF = df.select(\"Origin\",\"Dest\",\"AirTime\",\"Distance\")"
   ]
  },
  {
   "cell_type": "code",
   "execution_count": 6,
   "id": "175ef63c",
   "metadata": {},
   "outputs": [
    {
     "data": {
      "text/plain": [
       "DataFrame[Origin: string, Dest: string, AirTime: string, Distance: string]"
      ]
     },
     "execution_count": 6,
     "metadata": {},
     "output_type": "execute_result"
    }
   ],
   "source": [
    "#cache data in-memory\n",
    "AirlineDF.cache()"
   ]
  },
  {
   "cell_type": "code",
   "execution_count": 7,
   "id": "3792301b",
   "metadata": {},
   "outputs": [
    {
     "name": "stdout",
     "output_type": "stream",
     "text": [
      "+------+----+-------+--------+\n",
      "|Origin|Dest|AirTime|Distance|\n",
      "+------+----+-------+--------+\n",
      "|   MSP| SLC|  153.0|   991.0|\n",
      "|   MKE| MCO|  141.0|  1066.0|\n",
      "|   GJT| DFW|  103.0|   773.0|\n",
      "|   LAX| DTW|  220.0|  1979.0|\n",
      "|   EWR| CLT|   80.0|   529.0|\n",
      "|   DFW| SHV|   28.0|   190.0|\n",
      "|   BOS| CLE|   94.0|   563.0|\n",
      "|   ATL| CAE|   35.0|   192.0|\n",
      "|   ORD| CLE|   59.0|   316.0|\n",
      "|   MDW| DAL|  114.0|   793.0|\n",
      "|   SAN| LAX|   null|   109.0|\n",
      "|   ELP| DAL|   77.0|   562.0|\n",
      "|   SJU| MIA|   null|  1045.0|\n",
      "|   ABQ| LAX|   95.0|   677.0|\n",
      "|   ORD| LGA|   99.0|   733.0|\n",
      "|   GSO| BWI|   null|   278.0|\n",
      "|   DTW| MBS|   24.0|    98.0|\n",
      "|   SLC| SEA|  102.0|   689.0|\n",
      "|   LAX| IAD|  255.0|  2288.0|\n",
      "|   SMF| LAX|   null|   373.0|\n",
      "+------+----+-------+--------+\n",
      "only showing top 20 rows\n",
      "\n"
     ]
    }
   ],
   "source": [
    "AirlineDF.show()"
   ]
  },
  {
   "cell_type": "code",
   "execution_count": 8,
   "id": "cfdbce02",
   "metadata": {},
   "outputs": [
    {
     "name": "stdout",
     "output_type": "stream",
     "text": [
      "root\n",
      " |-- Origin: string (nullable = true)\n",
      " |-- Dest: string (nullable = true)\n",
      " |-- AirTime: string (nullable = true)\n",
      " |-- Distance: string (nullable = true)\n",
      "\n"
     ]
    }
   ],
   "source": [
    "#check data types of each columns\n",
    "AirlineDF.printSchema()"
   ]
  },
  {
   "cell_type": "code",
   "execution_count": 9,
   "id": "4306276a",
   "metadata": {},
   "outputs": [],
   "source": [
    "from pyspark.sql.types import IntegerType"
   ]
  },
  {
   "cell_type": "code",
   "execution_count": 10,
   "id": "f6aac563",
   "metadata": {},
   "outputs": [],
   "source": [
    "AirlineDF = AirlineDF.withColumn(\"Distance\", AirlineDF[\"Distance\"].cast(IntegerType()))"
   ]
  },
  {
   "cell_type": "code",
   "execution_count": 11,
   "id": "cc6971da",
   "metadata": {},
   "outputs": [],
   "source": [
    "AirlineDF = AirlineDF.withColumn(\"AirTime\", AirlineDF[\"AirTime\"].cast(IntegerType()))"
   ]
  },
  {
   "cell_type": "code",
   "execution_count": 12,
   "id": "b27b79e1",
   "metadata": {},
   "outputs": [
    {
     "name": "stdout",
     "output_type": "stream",
     "text": [
      "root\n",
      " |-- Origin: string (nullable = true)\n",
      " |-- Dest: string (nullable = true)\n",
      " |-- AirTime: integer (nullable = true)\n",
      " |-- Distance: integer (nullable = true)\n",
      "\n"
     ]
    }
   ],
   "source": [
    "AirlineDF.printSchema()"
   ]
  },
  {
   "cell_type": "code",
   "execution_count": 13,
   "id": "9f10fb0b",
   "metadata": {},
   "outputs": [
    {
     "name": "stdout",
     "output_type": "stream",
     "text": [
      "+------+----+-------+--------+\n",
      "|Origin|Dest|AirTime|Distance|\n",
      "+------+----+-------+--------+\n",
      "|   MSP| SLC|    153|     991|\n",
      "|   MKE| MCO|    141|    1066|\n",
      "|   GJT| DFW|    103|     773|\n",
      "|   LAX| DTW|    220|    1979|\n",
      "|   EWR| CLT|     80|     529|\n",
      "|   DFW| SHV|     28|     190|\n",
      "|   BOS| CLE|     94|     563|\n",
      "|   ATL| CAE|     35|     192|\n",
      "|   ORD| CLE|     59|     316|\n",
      "|   MDW| DAL|    114|     793|\n",
      "|   SAN| LAX|   null|     109|\n",
      "|   ELP| DAL|     77|     562|\n",
      "|   SJU| MIA|   null|    1045|\n",
      "|   ABQ| LAX|     95|     677|\n",
      "|   ORD| LGA|     99|     733|\n",
      "|   GSO| BWI|   null|     278|\n",
      "|   DTW| MBS|     24|      98|\n",
      "|   SLC| SEA|    102|     689|\n",
      "|   LAX| IAD|    255|    2288|\n",
      "|   SMF| LAX|   null|     373|\n",
      "+------+----+-------+--------+\n",
      "only showing top 20 rows\n",
      "\n"
     ]
    }
   ],
   "source": [
    "AirlineDF.show()"
   ]
  },
  {
   "cell_type": "code",
   "execution_count": 14,
   "id": "016d1797",
   "metadata": {},
   "outputs": [
    {
     "name": "stdout",
     "output_type": "stream",
     "text": [
      "root\n",
      " |-- Origin: string (nullable = true)\n",
      " |-- Dest: string (nullable = true)\n",
      " |-- AirTime: integer (nullable = true)\n",
      " |-- Distance: integer (nullable = true)\n",
      "\n"
     ]
    }
   ],
   "source": [
    "#check data types of each columns\n",
    "AirlineDF.printSchema()"
   ]
  },
  {
   "cell_type": "markdown",
   "id": "4605ee53",
   "metadata": {},
   "source": [
    "# Check is there any null values in DataFrame "
   ]
  },
  {
   "cell_type": "code",
   "execution_count": 15,
   "id": "2209fd48",
   "metadata": {},
   "outputs": [],
   "source": [
    "#import libray for sql function col\n",
    "from pyspark.sql.functions import col"
   ]
  },
  {
   "cell_type": "code",
   "execution_count": 16,
   "id": "6dc591ed",
   "metadata": {},
   "outputs": [
    {
     "name": "stdout",
     "output_type": "stream",
     "text": [
      "0\n",
      "0\n",
      "10529\n",
      "0\n"
     ]
    }
   ],
   "source": [
    "#check null values in each columns\n",
    "print(AirlineDF.where(col(\"Origin\").isNull()).count())\n",
    "print(AirlineDF.where(col(\"Dest\").isNull()).count())\n",
    "print(AirlineDF.where(col(\"AirTime\").isNull()).count())\n",
    "print(AirlineDF.where(col(\"Distance\").isNull()).count())"
   ]
  },
  {
   "cell_type": "markdown",
   "id": "16ab16dc",
   "metadata": {},
   "source": [
    "#  Handel null values "
   ]
  },
  {
   "cell_type": "code",
   "execution_count": 17,
   "id": "7eef0a6e",
   "metadata": {},
   "outputs": [],
   "source": [
    "#now drop row as correspondence to null values\n",
    "AirlineDF = AirlineDF.dropna(subset=[\"AirTime\"])"
   ]
  },
  {
   "cell_type": "code",
   "execution_count": 18,
   "id": "3f47fe64",
   "metadata": {},
   "outputs": [
    {
     "name": "stdout",
     "output_type": "stream",
     "text": [
      "0\n",
      "0\n",
      "0\n"
     ]
    }
   ],
   "source": [
    "#check again\n",
    "print(AirlineDF.where(col(\"Origin\").isNull()).count())\n",
    "print(AirlineDF.where(col(\"Dest\").isNull()).count())\n",
    "print(AirlineDF.where(col(\"AirTime\").isNull()).count())"
   ]
  },
  {
   "cell_type": "markdown",
   "id": "b6d2d9d7",
   "metadata": {},
   "source": [
    "# Convert distance miles into km"
   ]
  },
  {
   "cell_type": "code",
   "execution_count": 19,
   "id": "ffbec5b5",
   "metadata": {},
   "outputs": [
    {
     "name": "stdout",
     "output_type": "stream",
     "text": [
      "+------+----+-------+--------+\n",
      "|Origin|Dest|AirTime|Distance|\n",
      "+------+----+-------+--------+\n",
      "|   MSP| SLC|    153|  1595.0|\n",
      "|   MKE| MCO|    141|  1716.0|\n",
      "|   GJT| DFW|    103|  1244.0|\n",
      "|   LAX| DTW|    220|  3185.0|\n",
      "|   EWR| CLT|     80|   851.0|\n",
      "|   DFW| SHV|     28|   306.0|\n",
      "|   BOS| CLE|     94|   906.0|\n",
      "|   ATL| CAE|     35|   309.0|\n",
      "|   ORD| CLE|     59|   509.0|\n",
      "|   MDW| DAL|    114|  1276.0|\n",
      "|   ELP| DAL|     77|   904.0|\n",
      "|   ABQ| LAX|     95|  1090.0|\n",
      "|   ORD| LGA|     99|  1180.0|\n",
      "|   DTW| MBS|     24|   158.0|\n",
      "|   SLC| SEA|    102|  1109.0|\n",
      "|   LAX| IAD|    255|  3682.0|\n",
      "|   MSY| ORD|    119|  1347.0|\n",
      "|   SGF| ATL|     85|   906.0|\n",
      "|   PHX| LGB|     62|   571.0|\n",
      "|   BUR| SFO|     53|   525.0|\n",
      "+------+----+-------+--------+\n",
      "only showing top 20 rows\n",
      "\n"
     ]
    }
   ],
   "source": [
    "from pyspark.sql.functions import round\n",
    "\n",
    "# Convert 'mile' to 'km' \n",
    "AirlineDF1 = AirlineDF.withColumn('Distance', round(AirlineDF.Distance * 1.60934, 0))\n",
    "\n",
    "AirlineDF1.show()"
   ]
  },
  {
   "cell_type": "markdown",
   "id": "9a9f9e90",
   "metadata": {},
   "source": [
    "# Verctorize the features"
   ]
  },
  {
   "cell_type": "code",
   "execution_count": 20,
   "id": "df66fd16",
   "metadata": {},
   "outputs": [],
   "source": [
    "from pyspark.ml.feature import *"
   ]
  },
  {
   "cell_type": "code",
   "execution_count": 21,
   "id": "c9c84bcb",
   "metadata": {},
   "outputs": [],
   "source": [
    "from pyspark.ml.feature import VectorAssembler"
   ]
  },
  {
   "cell_type": "code",
   "execution_count": 22,
   "id": "c5aa60be",
   "metadata": {},
   "outputs": [],
   "source": [
    "vectorizer = VectorAssembler()\n",
    "vectorizer.setInputCols([\"AirTime\",\"Distance\"])\n",
    "vectorizer.setOutputCol(\"features\")\n",
    "\n",
    "dataset = vectorizer.setHandleInvalid(\"keep\").transform(AirlineDF1)"
   ]
  },
  {
   "cell_type": "code",
   "execution_count": 23,
   "id": "2d396506",
   "metadata": {},
   "outputs": [
    {
     "name": "stdout",
     "output_type": "stream",
     "text": [
      "+------+----+-------+--------+--------------+\n",
      "|Origin|Dest|AirTime|Distance|      features|\n",
      "+------+----+-------+--------+--------------+\n",
      "|   MSP| SLC|    153|  1595.0|[153.0,1595.0]|\n",
      "|   MKE| MCO|    141|  1716.0|[141.0,1716.0]|\n",
      "|   GJT| DFW|    103|  1244.0|[103.0,1244.0]|\n",
      "|   LAX| DTW|    220|  3185.0|[220.0,3185.0]|\n",
      "|   EWR| CLT|     80|   851.0|  [80.0,851.0]|\n",
      "|   DFW| SHV|     28|   306.0|  [28.0,306.0]|\n",
      "|   BOS| CLE|     94|   906.0|  [94.0,906.0]|\n",
      "|   ATL| CAE|     35|   309.0|  [35.0,309.0]|\n",
      "|   ORD| CLE|     59|   509.0|  [59.0,509.0]|\n",
      "|   MDW| DAL|    114|  1276.0|[114.0,1276.0]|\n",
      "|   ELP| DAL|     77|   904.0|  [77.0,904.0]|\n",
      "|   ABQ| LAX|     95|  1090.0| [95.0,1090.0]|\n",
      "|   ORD| LGA|     99|  1180.0| [99.0,1180.0]|\n",
      "|   DTW| MBS|     24|   158.0|  [24.0,158.0]|\n",
      "|   SLC| SEA|    102|  1109.0|[102.0,1109.0]|\n",
      "|   LAX| IAD|    255|  3682.0|[255.0,3682.0]|\n",
      "|   MSY| ORD|    119|  1347.0|[119.0,1347.0]|\n",
      "|   SGF| ATL|     85|   906.0|  [85.0,906.0]|\n",
      "|   PHX| LGB|     62|   571.0|  [62.0,571.0]|\n",
      "|   BUR| SFO|     53|   525.0|  [53.0,525.0]|\n",
      "+------+----+-------+--------+--------------+\n",
      "only showing top 20 rows\n",
      "\n"
     ]
    }
   ],
   "source": [
    "dataset.show()"
   ]
  },
  {
   "cell_type": "markdown",
   "id": "db039928",
   "metadata": {},
   "source": [
    "# Divide data into multiple clusters"
   ]
  },
  {
   "cell_type": "code",
   "execution_count": 24,
   "id": "55d2b0ad",
   "metadata": {},
   "outputs": [],
   "source": [
    "from pyspark.ml.clustering import KMeans\n",
    "from pyspark.ml.evaluation import ClusteringEvaluator"
   ]
  },
  {
   "cell_type": "code",
   "execution_count": 25,
   "id": "e910dc67",
   "metadata": {},
   "outputs": [],
   "source": [
    "# Trains a k-means model.\n",
    "kmeans = KMeans().setK(5).setSeed(1)\n",
    "model = kmeans.fit(dataset)"
   ]
  },
  {
   "cell_type": "code",
   "execution_count": 26,
   "id": "e6dd568a",
   "metadata": {},
   "outputs": [],
   "source": [
    "# Make predictions\n",
    "predictions = model.transform(dataset)"
   ]
  },
  {
   "cell_type": "code",
   "execution_count": 27,
   "id": "ceb899f9",
   "metadata": {},
   "outputs": [],
   "source": [
    "# Evaluate clustering by computing Silhouette score\n",
    "evaluator = ClusteringEvaluator()"
   ]
  },
  {
   "cell_type": "code",
   "execution_count": 28,
   "id": "09721f8b",
   "metadata": {},
   "outputs": [
    {
     "name": "stdout",
     "output_type": "stream",
     "text": [
      "Silhouette with squared euclidean distance = 0.7426365575241805\n"
     ]
    }
   ],
   "source": [
    "silhouette = evaluator.evaluate(predictions)\n",
    "print(\"Silhouette with squared euclidean distance = \" + str(silhouette))"
   ]
  },
  {
   "cell_type": "code",
   "execution_count": 29,
   "id": "c6bb51ac",
   "metadata": {},
   "outputs": [
    {
     "name": "stdout",
     "output_type": "stream",
     "text": [
      "Cluster Centers: \n",
      "[ 49.34561149 449.61860833]\n",
      "[ 298.26466165 3907.4952381 ]\n",
      "[ 90.66013693 997.68115253]\n",
      "[ 207.17976611 2611.4819146 ]\n",
      "[ 137.96114948 1639.54785397]\n"
     ]
    }
   ],
   "source": [
    "# Shows the result.\n",
    "centers = model.clusterCenters()\n",
    "print(\"Cluster Centers: \")\n",
    "for center in centers:\n",
    "    print(center)"
   ]
  },
  {
   "cell_type": "code",
   "execution_count": 30,
   "id": "61971747",
   "metadata": {},
   "outputs": [
    {
     "name": "stdout",
     "output_type": "stream",
     "text": [
      "+------+----+-------+--------+--------------+----------+\n",
      "|Origin|Dest|AirTime|Distance|      features|prediction|\n",
      "+------+----+-------+--------+--------------+----------+\n",
      "|   MSP| SLC|    153|  1595.0|[153.0,1595.0]|         4|\n",
      "|   MKE| MCO|    141|  1716.0|[141.0,1716.0]|         4|\n",
      "|   GJT| DFW|    103|  1244.0|[103.0,1244.0]|         2|\n",
      "|   LAX| DTW|    220|  3185.0|[220.0,3185.0]|         3|\n",
      "|   EWR| CLT|     80|   851.0|  [80.0,851.0]|         2|\n",
      "|   DFW| SHV|     28|   306.0|  [28.0,306.0]|         0|\n",
      "|   BOS| CLE|     94|   906.0|  [94.0,906.0]|         2|\n",
      "|   ATL| CAE|     35|   309.0|  [35.0,309.0]|         0|\n",
      "|   ORD| CLE|     59|   509.0|  [59.0,509.0]|         0|\n",
      "|   MDW| DAL|    114|  1276.0|[114.0,1276.0]|         2|\n",
      "|   ELP| DAL|     77|   904.0|  [77.0,904.0]|         2|\n",
      "|   ABQ| LAX|     95|  1090.0| [95.0,1090.0]|         2|\n",
      "|   ORD| LGA|     99|  1180.0| [99.0,1180.0]|         2|\n",
      "|   DTW| MBS|     24|   158.0|  [24.0,158.0]|         0|\n",
      "|   SLC| SEA|    102|  1109.0|[102.0,1109.0]|         2|\n",
      "|   LAX| IAD|    255|  3682.0|[255.0,3682.0]|         1|\n",
      "|   MSY| ORD|    119|  1347.0|[119.0,1347.0]|         4|\n",
      "|   SGF| ATL|     85|   906.0|  [85.0,906.0]|         2|\n",
      "|   PHX| LGB|     62|   571.0|  [62.0,571.0]|         0|\n",
      "|   BUR| SFO|     53|   525.0|  [53.0,525.0]|         0|\n",
      "+------+----+-------+--------+--------------+----------+\n",
      "only showing top 20 rows\n",
      "\n"
     ]
    }
   ],
   "source": [
    "predictions.show()"
   ]
  },
  {
   "cell_type": "markdown",
   "id": "2d67e82c",
   "metadata": {},
   "source": [
    "# how to get clustered data"
   ]
  },
  {
   "cell_type": "code",
   "execution_count": 31,
   "id": "a80063bf",
   "metadata": {},
   "outputs": [
    {
     "name": "stdout",
     "output_type": "stream",
     "text": [
      "+------+----+-------+--------+\n",
      "|Origin|Dest|AirTime|Distance|\n",
      "+------+----+-------+--------+\n",
      "|   LAX| IAD|    255|  3682.0|\n",
      "|   HNL| ORD|    428|  6830.0|\n",
      "|   IAD| LAS|    274|  3323.0|\n",
      "|   DTW| SFO|    266|  3346.0|\n",
      "|   EWR| LAX|    326|  3949.0|\n",
      "|   DTW| SFO|    273|  3346.0|\n",
      "|   JFK| SFO|    327|  4162.0|\n",
      "|   SEA| JFK|    280|  3896.0|\n",
      "|   LAX| LIH|    335|  4208.0|\n",
      "|   LAS| EWR|    243|  3584.0|\n",
      "|   SLC| BOS|    247|  3388.0|\n",
      "|   LAX| IAD|    256|  3682.0|\n",
      "|   CLE| LAX|    291|  3304.0|\n",
      "|   ATL| SEA|    281|  3512.0|\n",
      "|   SFO| JFK|    300|  4162.0|\n",
      "|   BOS| SFO|    365|  4352.0|\n",
      "|   SFO| EWR|    284|  4128.0|\n",
      "|   JFK| LAS|    286|  3618.0|\n",
      "|   LIH| OAK|    296|  3954.0|\n",
      "|   PHX| BOS|    261|  3701.0|\n",
      "+------+----+-------+--------+\n",
      "only showing top 20 rows\n",
      "\n"
     ]
    }
   ],
   "source": [
    "predictions.select(\"Origin\",\"Dest\",\"AirTime\",\"Distance\").where(predictions.prediction=='1').show()"
   ]
  },
  {
   "cell_type": "code",
   "execution_count": null,
   "id": "53ecee2f",
   "metadata": {},
   "outputs": [],
   "source": []
  }
 ],
 "metadata": {
  "kernelspec": {
   "display_name": "Python 3",
   "language": "python",
   "name": "python3"
  },
  "language_info": {
   "codemirror_mode": {
    "name": "ipython",
    "version": 3
   },
   "file_extension": ".py",
   "mimetype": "text/x-python",
   "name": "python",
   "nbconvert_exporter": "python",
   "pygments_lexer": "ipython3",
   "version": "3.8.8"
  }
 },
 "nbformat": 4,
 "nbformat_minor": 5
}
